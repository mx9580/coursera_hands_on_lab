{
 "cells": [
  {
   "cell_type": "markdown",
   "id": "51e44c1e-49b7-48b9-8c56-d73d87a6ca78",
   "metadata": {
    "tags": []
   },
   "source": [
    "# Data Science Tools and Ecosystem"
   ]
  },
  {
   "cell_type": "markdown",
   "id": "a41d6c72-3b26-4569-93c9-e9cc3a28ab30",
   "metadata": {},
   "source": [
    "Welcome to Jupyter Notebook! Here you can uitilize exciting tools."
   ]
  },
  {
   "cell_type": "markdown",
   "id": "45021c87-87db-4420-a046-d7eac8588dc7",
   "metadata": {},
   "source": [
    "**Objectives:**\n",
    "* SQL\n",
    "* Python\n",
    "* R\n",
    "* Julia\n",
    "* Scala"
   ]
  },
  {
   "cell_type": "markdown",
   "id": "0cbac86c-495e-47ad-b965-cf9a53131b85",
   "metadata": {},
   "source": [
    "### Some of the popular languages that Data Scientists use are:"
   ]
  },
  {
   "cell_type": "markdown",
   "id": "e051e911-f34a-41dd-be7c-ae5db4ffbb39",
   "metadata": {},
   "source": [
    "1. Python\n",
    "2. R\n",
    "3. SQL"
   ]
  },
  {
   "cell_type": "markdown",
   "id": "acc3ba90-fb17-4c72-93d4-598b62075559",
   "metadata": {},
   "source": [
    "### Some of the commonly used libraries used by Data Scientists include:"
   ]
  },
  {
   "cell_type": "markdown",
   "id": "77047984-868d-4d54-a18c-f43a8262ab16",
   "metadata": {
    "tags": []
   },
   "source": [
    "1. Numpy\n",
    "2. Tensorflow\n",
    "3. Panda"
   ]
  },
  {
   "cell_type": "markdown",
   "id": "ece2b27e-db81-49f0-962e-0964a36d486e",
   "metadata": {
    "tags": []
   },
   "source": [
    "|Data Science Tools|\n",
    "|------------------|\n",
    "|Apache Spark|\n",
    "|Jupyter|\n",
    "|TensorFlow|"
   ]
  },
  {
   "cell_type": "markdown",
   "id": "b9138df3-a247-49ec-a046-caa04e485676",
   "metadata": {
    "tags": []
   },
   "source": [
    "### Below are a few examples of evaluating arithmetic expressions in Python:\n",
    "___________________________________________________________________________"
   ]
  },
  {
   "cell_type": "code",
   "execution_count": 4,
   "id": "599534cd-dea2-40d3-9ec2-102283461380",
   "metadata": {
    "tags": []
   },
   "outputs": [
    {
     "data": {
      "text/plain": [
       "17"
      ]
     },
     "execution_count": 4,
     "metadata": {},
     "output_type": "execute_result"
    }
   ],
   "source": [
    "# This a simple arithmetic expression to mutiply then add integers\n",
    "(3*4)+5"
   ]
  },
  {
   "cell_type": "code",
   "execution_count": 5,
   "id": "8a42f49e-4fa0-43eb-890d-718e49e82d7a",
   "metadata": {
    "tags": []
   },
   "outputs": [
    {
     "data": {
      "text/plain": [
       "3.3333333333333335"
      ]
     },
     "execution_count": 5,
     "metadata": {},
     "output_type": "execute_result"
    }
   ],
   "source": [
    "# This will convert 200 minutes to hours by diving by 60\n",
    "200/60"
   ]
  },
  {
   "cell_type": "markdown",
   "id": "99337b94-caf0-4ce5-8e25-076170f56065",
   "metadata": {},
   "source": [
    "## Author\n",
    "SHIH HAO TSAI"
   ]
  },
  {
   "cell_type": "code",
   "execution_count": null,
   "id": "affe135c-adb0-4b2f-88ca-ccd2d2380c2e",
   "metadata": {},
   "outputs": [],
   "source": []
  }
 ],
 "metadata": {
  "kernelspec": {
   "display_name": "Python",
   "language": "python",
   "name": "conda-env-python-py"
  },
  "language_info": {
   "codemirror_mode": {
    "name": "ipython",
    "version": 3
   },
   "file_extension": ".py",
   "mimetype": "text/x-python",
   "name": "python",
   "nbconvert_exporter": "python",
   "pygments_lexer": "ipython3",
   "version": "3.7.12"
  }
 },
 "nbformat": 4,
 "nbformat_minor": 5
}
